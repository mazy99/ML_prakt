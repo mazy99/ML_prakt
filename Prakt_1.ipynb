{
 "cells": [
  {
   "cell_type": "markdown",
   "id": "60e50970-d482-471f-bdac-b159ac9ef83e",
   "metadata": {},
   "source": [
    "**\"*Практическое задание №1*\"**"
   ]
  },
  {
   "cell_type": "markdown",
   "id": "c877414d-117b-4c45-bbba-11e39c8bf091",
   "metadata": {},
   "source": [
    "1. Первый пункт нумерованного списка\n",
    "2. Второй пункт"
   ]
  },
  {
   "cell_type": "markdown",
   "id": "acd920ac-d0ea-4565-9083-b2b8837c8fd1",
   "metadata": {},
   "source": [
    "* Ненумерованный список можно размечать звездочками\n",
    "- Или минусами\n",
    "+ Или плюсами"
   ]
  },
  {
   "cell_type": "markdown",
   "id": "1bea76d3-78dd-4471-af95-3df8cb60e3f9",
   "metadata": {},
   "source": [
    "$\\int \\cos(x) \\,dx = \\sin(x) +C$"
   ]
  },
  {
   "cell_type": "markdown",
   "id": "ad7b0948-5ebe-4cd2-b1f0-b7af31f4d2ce",
   "metadata": {},
   "source": [
    "![изображение задания](image.jpg)"
   ]
  },
  {
   "cell_type": "markdown",
   "id": "41215d72-65f2-409b-9209-3e12806c9c9f",
   "metadata": {},
   "source": [
    "**\"*Практическое задание №2*\"**"
   ]
  },
  {
   "cell_type": "code",
   "execution_count": 2,
   "id": "9e4c7b1e-f103-4d4f-a37b-f57e3e2cb4b8",
   "metadata": {},
   "outputs": [
    {
     "name": "stdin",
     "output_type": "stream",
     "text": [
      "Пожаулйста, введите свое имя Timur\n"
     ]
    },
    {
     "name": "stdout",
     "output_type": "stream",
     "text": [
      "Привет, Timur! Добро пожаловать в JupyterLab / Google Colab!\n"
     ]
    }
   ],
   "source": [
    "name = input(\"Пожаулйста, введите свое имя\")\n",
    "print(f\"Привет, {name}! Добро пожаловать в JupyterLab / Google Colab!\")"
   ]
  },
  {
   "cell_type": "markdown",
   "id": "e282ba53-8b54-4b6f-9dc0-6f851b1e6bb7",
   "metadata": {},
   "source": [
    "**\"*Практическое задание №3 Работа с файлами*\"**"
   ]
  },
  {
   "cell_type": "code",
   "execution_count": 2,
   "id": "b629661d-29fc-4430-8fc3-3b9eef2a6722",
   "metadata": {},
   "outputs": [
    {
     "name": "stdout",
     "output_type": "stream",
     "text": [
      "Содержимое файла:  \n",
      " 1)Первая строка \n",
      " 2)Вторая строка\n",
      "Файл существует: True\n",
      "Файл удален.\n"
     ]
    }
   ],
   "source": [
    "import os\n",
    "\n",
    "with open(\"my_file.txt\",\"w\") as file:\n",
    "    file.write(\"\\n 1)Первая строка \\n 2)Вторая строка\")\n",
    "\n",
    "with open(\"my_file.txt\", \"r\") as file:\n",
    "    print(\"Содержимое файла: \", file.read())\n",
    "\n",
    "print(\"Файл существует:\", os.path.exists(\"my_file.txt\"))\n",
    "\n",
    "os.remove(\"my_file.txt\")\n",
    "print(\"Файл удален.\")"
   ]
  },
  {
   "cell_type": "markdown",
   "id": "e066cdfe-4d23-4e58-ad61-4edcdf51bf6e",
   "metadata": {},
   "source": [
    "**\"*Практическое задание №4 Магические команды Jupyter*\"**"
   ]
  },
  {
   "cell_type": "code",
   "execution_count": 4,
   "id": "4489ab99-402c-4cc5-aa6b-e3685be14982",
   "metadata": {},
   "outputs": [
    {
     "name": "stdout",
     "output_type": "stream",
     "text": [
      "Writing test_script.py\n"
     ]
    }
   ],
   "source": [
    "%%writefile test_script.py\n",
    "for i in range(100):\n",
    "    print(f\"Итерация {i}\")\n",
    "\n",
    "!python test_script.py\n",
    "\n",
    "%time sum(range(1000000))"
   ]
  }
 ],
 "metadata": {
  "kernelspec": {
   "display_name": "Python 3 (ipykernel)",
   "language": "python",
   "name": "python3"
  },
  "language_info": {
   "codemirror_mode": {
    "name": "ipython",
    "version": 3
   },
   "file_extension": ".py",
   "mimetype": "text/x-python",
   "name": "python",
   "nbconvert_exporter": "python",
   "pygments_lexer": "ipython3",
   "version": "3.12.7"
  }
 },
 "nbformat": 4,
 "nbformat_minor": 5
}
