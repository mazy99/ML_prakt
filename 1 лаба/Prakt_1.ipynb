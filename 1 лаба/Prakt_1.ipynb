{
 "cells": [
  {
   "cell_type": "markdown",
   "id": "60e50970-d482-471f-bdac-b159ac9ef83e",
   "metadata": {},
   "source": [
    "**\"*Практическое задание №1*\"**"
   ]
  },
  {
   "cell_type": "markdown",
   "id": "c877414d-117b-4c45-bbba-11e39c8bf091",
   "metadata": {},
   "source": [
    "1. Первый пункт нумерованного списка\n",
    "2. Второй пункт"
   ]
  },
  {
   "cell_type": "markdown",
   "id": "acd920ac-d0ea-4565-9083-b2b8837c8fd1",
   "metadata": {},
   "source": [
    "* Ненумерованный список можно размечать звездочками\n",
    "- Или минусами\n",
    "+ Или плюсами"
   ]
  },
  {
   "cell_type": "markdown",
   "id": "1bea76d3-78dd-4471-af95-3df8cb60e3f9",
   "metadata": {},
   "source": [
    "$\\int \\cos(x) \\,dx = \\sin(x) +C$"
   ]
  },
  {
   "cell_type": "markdown",
   "id": "ad7b0948-5ebe-4cd2-b1f0-b7af31f4d2ce",
   "metadata": {},
   "source": [
    "![изображение задания](image.jpg)"
   ]
  },
  {
   "cell_type": "markdown",
   "id": "41215d72-65f2-409b-9209-3e12806c9c9f",
   "metadata": {},
   "source": [
    "**\"*Практическое задание №2*\"**"
   ]
  },
  {
   "cell_type": "code",
   "execution_count": 2,
   "id": "9e4c7b1e-f103-4d4f-a37b-f57e3e2cb4b8",
   "metadata": {},
   "outputs": [
    {
     "name": "stdin",
     "output_type": "stream",
     "text": [
      "Пожаулйста, введите свое имя Timur\n"
     ]
    },
    {
     "name": "stdout",
     "output_type": "stream",
     "text": [
      "Привет, Timur! Добро пожаловать в JupyterLab / Google Colab!\n"
     ]
    }
   ],
   "source": [
    "name = input(\"Пожаулйста, введите свое имя\")\n",
    "print(f\"Привет, {name}! Добро пожаловать в JupyterLab / Google Colab!\")"
   ]
  }
 ],
 "metadata": {
  "kernelspec": {
   "display_name": "Python 3 (ipykernel)",
   "language": "python",
   "name": "python3"
  },
  "language_info": {
   "codemirror_mode": {
    "name": "ipython",
    "version": 3
   },
   "file_extension": ".py",
   "mimetype": "text/x-python",
   "name": "python",
   "nbconvert_exporter": "python",
   "pygments_lexer": "ipython3",
   "version": "3.12.7"
  }
 },
 "nbformat": 4,
 "nbformat_minor": 5
}
